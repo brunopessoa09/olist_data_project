{
 "cells": [
  {
   "cell_type": "code",
   "execution_count": 26,
   "id": "6b9aa43c-9018-4a77-9879-330ae720b668",
   "metadata": {},
   "outputs": [],
   "source": [
    "import os\n",
    "\n",
    "OLIST_PATH = \"../olist_data\"\n",
    "\n",
    "for f in os.listdir(OLIST_PATH):\n",
    "    if f.endswith(\".csv\"):\n",
    "        view_name = f.split(\".\")[0]\n",
    "        table_name = \"demo.silver.\" + view_name\n",
    "        df = spark.read.option(\"header\", True).csv(os.path.join(OLIST_PATH, f))\n",
    "        df.createOrReplaceTempView(view_name)\n",
    "        spark.sql(f\"CREATE TABLE IF NOT EXISTS {table_name} USING iceberg AS SELECT * FROM {view_name};\")\n",
    "        #spark.sql(\"SELECT * FROM demo.silver.olist_geolocation_dataset LIMIT 15\").show()"
   ]
  },
  {
   "cell_type": "code",
   "execution_count": 28,
   "id": "c5b4f807-c8d5-4c78-9e14-e8a43d0eb3fc",
   "metadata": {
    "editable": true,
    "slideshow": {
     "slide_type": ""
    },
    "tags": []
   },
   "outputs": [
    {
     "name": "stdout",
     "output_type": "stream",
     "text": [
      "+--------------------+----------------------+-----------------+------------+\n",
      "|           seller_id|seller_zip_code_prefix|      seller_city|seller_state|\n",
      "+--------------------+----------------------+-----------------+------------+\n",
      "|3442f8959a84dea7e...|                 13023|         campinas|          SP|\n",
      "|d1b65fc7debc3361e...|                 13844|       mogi guacu|          SP|\n",
      "|ce3ad9de960102d06...|                 20031|   rio de janeiro|          RJ|\n",
      "|c0f3eea2e14555b6f...|                 04195|        sao paulo|          SP|\n",
      "|51a04a8a6bdcb23de...|                 12914|braganca paulista|          SP|\n",
      "|c240c4061717ac180...|                 20920|   rio de janeiro|          RJ|\n",
      "|e49c26c3edfa46d22...|                 55325|           brejao|          PE|\n",
      "|1b938a7ec6ac5061a...|                 16304|        penapolis|          SP|\n",
      "|768a86e36ad6aae3d...|                 01529|        sao paulo|          SP|\n",
      "|ccc4bbb5f32a6ab2b...|                 80310|         curitiba|          PR|\n",
      "|8cb7c5ddf41f4d506...|                 75110|         anapolis|          GO|\n",
      "|a7a9b880c49781da6...|                 13530|        itirapina|          SP|\n",
      "|8bd0f31cf0a614c65...|                 01222|        sao paulo|          SP|\n",
      "|05a48cc8859962767...|                 05372|        sao paulo|          SP|\n",
      "|7b8e8ec35bad4b0ef...|                 88705|          tubarao|          SC|\n",
      "+--------------------+----------------------+-----------------+------------+\n",
      "\n"
     ]
    }
   ],
   "source": [
    "spark.sql(\"SELECT * FROM demo.silver.olist_sellers_dataset LIMIT 15\").show()"
   ]
  },
  {
   "cell_type": "code",
   "execution_count": null,
   "id": "3a904cbc-5c08-49fe-b944-7d9f20f6381d",
   "metadata": {},
   "outputs": [],
   "source": []
  }
 ],
 "metadata": {
  "kernelspec": {
   "display_name": "Python 3 (ipykernel)",
   "language": "python",
   "name": "python3"
  },
  "language_info": {
   "codemirror_mode": {
    "name": "ipython",
    "version": 3
   },
   "file_extension": ".py",
   "mimetype": "text/x-python",
   "name": "python",
   "nbconvert_exporter": "python",
   "pygments_lexer": "ipython3",
   "version": "3.9.19"
  }
 },
 "nbformat": 4,
 "nbformat_minor": 5
}
